{
 "cells": [
  {
   "cell_type": "markdown",
   "metadata": {},
   "source": [
    "# Basic Text Classification with Naive Bayes\n",
    "***\n",
    "In the mini-project, you'll learn the basics of text analysis using a subset of movie reviews from the rotten tomatoes database. You'll also use a fundamental technique in Bayesian inference, called Naive Bayes. This mini-project is based on [Lab 10 of Harvard's CS109](https://github.com/cs109/2015lab10) class.  Please free to go to the original lab for additional exercises and solutions."
   ]
  },
  {
   "cell_type": "code",
   "execution_count": 1,
   "metadata": {
    "collapsed": false
   },
   "outputs": [],
   "source": [
    "%matplotlib inline\n",
    "import numpy as np\n",
    "import scipy as sp\n",
    "import matplotlib as mpl\n",
    "import matplotlib.cm as cm\n",
    "import matplotlib.pyplot as plt\n",
    "import pandas as pd\n",
    "import seaborn as sns\n",
    "from six.moves import range\n",
    "\n",
    "# Setup Pandas\n",
    "pd.set_option('display.width', 500)\n",
    "pd.set_option('display.max_columns', 100)\n",
    "pd.set_option('display.notebook_repr_html', True)\n",
    "\n",
    "# Setup Seaborn\n",
    "sns.set_style(\"whitegrid\")\n",
    "sns.set_context(\"poster\")"
   ]
  },
  {
   "cell_type": "markdown",
   "metadata": {},
   "source": [
    "# Table of Contents\n",
    "\n",
    "* [Rotten Tomatoes Dataset](#Rotten-Tomatoes-Dataset)\n",
    "    * [Explore](#Explore)\n",
    "* [The Vector Space Model and a Search Engine](#The-Vector-Space-Model-and-a-Search-Engine)\n",
    "    * [In Code](#In-Code)\n",
    "* [Naive Bayes](#Naive-Bayes)\n",
    "    * [Multinomial Naive Bayes and Other Likelihood Functions](#Multinomial-Naive-Bayes-and-Other-Likelihood-Functions)\n",
    "    * [Picking Hyperparameters for Naive Bayes and Text Maintenance](#Picking-Hyperparameters-for-Naive-Bayes-and-Text-Maintenance)\n",
    "* [Interpretation](#Interpretation)\n"
   ]
  },
  {
   "cell_type": "markdown",
   "metadata": {},
   "source": [
    "## Rotten Tomatoes Dataset"
   ]
  },
  {
   "cell_type": "code",
   "execution_count": 2,
   "metadata": {
    "collapsed": false
   },
   "outputs": [
    {
     "data": {
      "text/html": [
       "<div>\n",
       "<table border=\"1\" class=\"dataframe\">\n",
       "  <thead>\n",
       "    <tr style=\"text-align: right;\">\n",
       "      <th></th>\n",
       "      <th>critic</th>\n",
       "      <th>fresh</th>\n",
       "      <th>imdb</th>\n",
       "      <th>publication</th>\n",
       "      <th>quote</th>\n",
       "      <th>review_date</th>\n",
       "      <th>rtid</th>\n",
       "      <th>title</th>\n",
       "    </tr>\n",
       "  </thead>\n",
       "  <tbody>\n",
       "    <tr>\n",
       "      <th>1</th>\n",
       "      <td>Derek Adams</td>\n",
       "      <td>fresh</td>\n",
       "      <td>114709</td>\n",
       "      <td>Time Out</td>\n",
       "      <td>So ingenious in concept, design and execution ...</td>\n",
       "      <td>2009-10-04</td>\n",
       "      <td>9559</td>\n",
       "      <td>Toy story</td>\n",
       "    </tr>\n",
       "    <tr>\n",
       "      <th>2</th>\n",
       "      <td>Richard Corliss</td>\n",
       "      <td>fresh</td>\n",
       "      <td>114709</td>\n",
       "      <td>TIME Magazine</td>\n",
       "      <td>The year's most inventive comedy.</td>\n",
       "      <td>2008-08-31</td>\n",
       "      <td>9559</td>\n",
       "      <td>Toy story</td>\n",
       "    </tr>\n",
       "    <tr>\n",
       "      <th>3</th>\n",
       "      <td>David Ansen</td>\n",
       "      <td>fresh</td>\n",
       "      <td>114709</td>\n",
       "      <td>Newsweek</td>\n",
       "      <td>A winning animated feature that has something ...</td>\n",
       "      <td>2008-08-18</td>\n",
       "      <td>9559</td>\n",
       "      <td>Toy story</td>\n",
       "    </tr>\n",
       "    <tr>\n",
       "      <th>4</th>\n",
       "      <td>Leonard Klady</td>\n",
       "      <td>fresh</td>\n",
       "      <td>114709</td>\n",
       "      <td>Variety</td>\n",
       "      <td>The film sports a provocative and appealing st...</td>\n",
       "      <td>2008-06-09</td>\n",
       "      <td>9559</td>\n",
       "      <td>Toy story</td>\n",
       "    </tr>\n",
       "    <tr>\n",
       "      <th>5</th>\n",
       "      <td>Jonathan Rosenbaum</td>\n",
       "      <td>fresh</td>\n",
       "      <td>114709</td>\n",
       "      <td>Chicago Reader</td>\n",
       "      <td>An entertaining computer-generated, hyperreali...</td>\n",
       "      <td>2008-03-10</td>\n",
       "      <td>9559</td>\n",
       "      <td>Toy story</td>\n",
       "    </tr>\n",
       "  </tbody>\n",
       "</table>\n",
       "</div>"
      ],
      "text/plain": [
       "               critic  fresh    imdb     publication                                              quote review_date  rtid      title\n",
       "1         Derek Adams  fresh  114709        Time Out  So ingenious in concept, design and execution ...  2009-10-04  9559  Toy story\n",
       "2     Richard Corliss  fresh  114709   TIME Magazine                  The year's most inventive comedy.  2008-08-31  9559  Toy story\n",
       "3         David Ansen  fresh  114709        Newsweek  A winning animated feature that has something ...  2008-08-18  9559  Toy story\n",
       "4       Leonard Klady  fresh  114709         Variety  The film sports a provocative and appealing st...  2008-06-09  9559  Toy story\n",
       "5  Jonathan Rosenbaum  fresh  114709  Chicago Reader  An entertaining computer-generated, hyperreali...  2008-03-10  9559  Toy story"
      ]
     },
     "execution_count": 2,
     "metadata": {},
     "output_type": "execute_result"
    }
   ],
   "source": [
    "critics = pd.read_csv('./critics.csv')\n",
    "#let's drop rows with missing quotes\n",
    "critics = critics[~critics.quote.isnull()]\n",
    "critics.head()"
   ]
  },
  {
   "cell_type": "markdown",
   "metadata": {},
   "source": [
    "### Explore"
   ]
  },
  {
   "cell_type": "code",
   "execution_count": 3,
   "metadata": {
    "collapsed": false
   },
   "outputs": [
    {
     "name": "stdout",
     "output_type": "stream",
     "text": [
      "Number of reviews: 15561\n",
      "Number of critics: 623\n",
      "Number of movies:  1921\n"
     ]
    }
   ],
   "source": [
    "n_reviews = len(critics)\n",
    "n_movies = critics.rtid.unique().size\n",
    "n_critics = critics.critic.unique().size\n",
    "\n",
    "\n",
    "print(\"Number of reviews: {:d}\".format(n_reviews))\n",
    "print(\"Number of critics: {:d}\".format(n_critics))\n",
    "print(\"Number of movies:  {:d}\".format(n_movies))"
   ]
  },
  {
   "cell_type": "code",
   "execution_count": 4,
   "metadata": {
    "collapsed": false
   },
   "outputs": [
    {
     "data": {
      "image/png": "[encoded data removed]",
      "text/plain": [
       "<matplotlib.figure.Figure at 0x1107512b0>"
      ]
     },
     "metadata": {},
     "output_type": "display_data"
    }
   ],
   "source": [
    "df = critics.copy()\n",
    "df['fresh'] = df.fresh == 'fresh'\n",
    "grp = df.groupby('critic')\n",
    "counts = grp.critic.count()  # number of reviews by each critic\n",
    "means = grp.fresh.mean()     # average freshness for each critic\n",
    "\n",
    "means[counts > 100].hist(bins=10, edgecolor='w', lw=1)\n",
    "plt.xlabel(\"Average Rating per critic\")\n",
    "plt.ylabel(\"Number of Critics\")\n",
    "plt.yticks([0, 2, 4, 6, 8, 10]);"
   ]
  },
  {
   "cell_type": "markdown",
   "metadata": {},
   "source": [
    "<div class=\"span5 alert alert-info\">\n",
    "<h3>Exercise Set I</h3>\n",
    "<br/>\n",
    "<b>Exercise:</b> Look at the histogram above. Tell a story about the average ratings per critic. What shape does the distribution look like? What is interesting about the distribution? What might explain these interesting things?\n",
    "</div>"
   ]
  },
  {
   "cell_type": "code",
   "execution_count": null,
   "metadata": {
    "collapsed": true
   },
   "outputs": [],
   "source": []
  },
  {
   "cell_type": "code",
   "execution_count": null,
   "metadata": {
    "collapsed": true
   },
   "outputs": [],
   "source": []
  },
  {
   "cell_type": "code",
   "execution_count": null,
   "metadata": {
    "collapsed": true
   },
   "outputs": [],
   "source": []
  },
  {
   "cell_type": "code",
   "execution_count": null,
   "metadata": {
    "collapsed": true
   },
   "outputs": [],
   "source": []
  },
  {
   "cell_type": "markdown",
   "metadata": {},
   "source": [
    "## The Vector Space Model and a Search Engine"
   ]
  },
  {
   "cell_type": "markdown",
   "metadata": {},
   "source": [
    "All the diagrams here are snipped from [*Introduction to Information Retrieval* by Manning et. al.]( http://nlp.stanford.edu/IR-book/) which is a great resource on text processing. For additional information on text mining and natural language processing, see [*Foundations of Statistical Natural Language Processing* by Manning and Schutze](http://nlp.stanford.edu/fsnlp/).\n",
    "\n",
    "Also check out Python packages [`nltk`](http://www.nltk.org/), [`spaCy`](https://spacy.io/), [`pattern`](http://www.clips.ua.ac.be/pattern), and their associated resources. Also see [`word2vec`](https://en.wikipedia.org/wiki/Word2vec).\n",
    "\n",
    "Let us define the vector derived from document $d$ by $\\bar V(d)$. What does this mean? Each document is treated as a vector containing information about the words contained in it. Each vector has the same length and each entry \"slot\" in the vector contains some kind of data about the words that appear in the document such as presence/absence (1/0), count (an integer) or some other statistic. Each vector has the same length because each document shared the same vocabulary across the full collection of documents -- this collection is called a *corpus*.\n",
    "\n",
    "To define the vocabulary, we take a union of all words we have seen in all documents. We then just associate an array index with them. So \"hello\" may be at index 5 and \"world\" at index 99.\n",
    "\n",
    "Suppose we have the following corpus:\n",
    "\n",
    "`A Fox one day spied a beautiful bunch of ripe grapes hanging from a vine trained along the branches of a tree. The grapes seemed ready to burst with juice, and the Fox's mouth watered as he gazed longingly at them.`\n",
    "\n",
    "Suppose we treat each sentence as a document $d$. The vocabulary (often called the *lexicon*) is the following:\n",
    "\n",
    "$V = \\left\\{\\right.$ `a, along, and, as, at, beautiful, branches, bunch, burst, day, fox, fox's, from, gazed, grapes, hanging, he, juice, longingly, mouth, of, one, ready, ripe, seemed, spied, the, them, to, trained, tree, vine, watered, with`$\\left.\\right\\}$\n",
    "\n",
    "Then the document\n",
    "\n",
    "`A Fox one day spied a beautiful bunch of ripe grapes hanging from a vine trained along the branches of a tree`\n",
    "\n",
    "may be represented as the following sparse vector of word counts:\n",
    "\n",
    "$$\\bar V(d) = \\left( 4,1,0,0,0,1,1,1,0,1,1,0,1,0,1,1,0,0,0,0,2,1,0,1,0,0,1,0,0,0,1,1,0,0 \\right)$$\n",
    "\n",
    "or more succinctly as\n",
    "\n",
    "`[(0, 4), (1, 1), (5, 1), (6, 1), (7, 1), (9, 1), (10, 1), (12, 1), (14, 1), (15, 1), (20, 2), (21, 1), (23, 1),`\n",
    "`(26, 1), (30, 1), (31, 1)]`\n",
    "\n",
    "along with a dictionary\n",
    "\n",
    "``\n",
    "{\n",
    "    0: a, 1: along, 5: beautiful, 6: branches, 7: bunch, 9: day, 10: fox, 12: from, 14: grapes, \n",
    "    15: hanging, 19: mouth, 20: of, 21: one, 23: ripe, 24: seemed, 25: spied, 26: the, \n",
    "    30: tree, 31: vine, \n",
    "}\n",
    "``\n",
    "\n",
    "Then, a set of documents becomes, in the usual `sklearn` style, a sparse matrix with rows being sparse arrays representing documents and columns representing the features/words in the vocabulary.\n",
    "\n",
    "Notice that this representation loses the relative ordering of the terms in the document. That is \"cat ate rat\" and \"rat ate cat\" are the same. Thus, this representation is also known as the Bag-Of-Words representation.\n",
    "\n",
    "Here is another example, from the book quoted above, although the matrix is transposed here so that documents are columns:\n",
    "\n",
    "![novel terms](terms.png)\n",
    "\n",
    "Such a matrix is also catted a Term-Document Matrix. Here, the terms being indexed could be stemmed before indexing; for instance, `jealous` and `jealousy` after stemming are the same feature. One could also make use of other \"Natural Language Processing\" transformations in constructing the vocabulary. We could use Lemmatization, which reduces words to lemmas: work, working, worked would all reduce to work. We could remove \"stopwords\" from our vocabulary, such as common words like \"the\". We could look for particular parts of speech, such as adjectives. This is often done in Sentiment Analysis. And so on. It all depends on our application.\n",
    "\n",
    "From the book:\n",
    ">The standard way of quantifying the similarity between two documents $d_1$ and $d_2$  is to compute the cosine similarity of their vector representations $\\bar V(d_1)$ and $\\bar V(d_2)$:\n",
    "\n",
    "$$S_{12} = \\frac{\\bar V(d_1) \\cdot \\bar V(d_2)}{|\\bar V(d_1)| \\times |\\bar V(d_2)|}$$\n",
    "\n",
    "![Vector Space Model](vsm.png)\n",
    "\n",
    "\n",
    ">There is a far more compelling reason to represent documents as vectors: we can also view a query as a vector. Consider the query q = jealous gossip. This query turns into the unit vector $\\bar V(q)$ = (0, 0.707, 0.707) on the three coordinates below. \n",
    "\n",
    "![novel terms](terms2.png)\n",
    "\n",
    ">The key idea now: to assign to each document d a score equal to the dot product:\n",
    "\n",
    "$$\\bar V(q) \\cdot \\bar V(d)$$\n",
    "\n",
    "Then we can use this simple Vector Model as a Search engine."
   ]
  },
  {
   "cell_type": "markdown",
   "metadata": {},
   "source": [
    "### In Code"
   ]
  },
  {
   "cell_type": "code",
   "execution_count": 5,
   "metadata": {
    "collapsed": false
   },
   "outputs": [
    {
     "name": "stdout",
     "output_type": "stream",
     "text": [
      "Original text is\n",
      "Hop on pop\n",
      "Hop off pop\n",
      "Hop Hop hop\n",
      "\n",
      "Transformed text vector is \n",
      "[[1 0 1 1]\n",
      " [1 1 0 1]\n",
      " [3 0 0 0]]\n",
      "\n",
      "Words for each feature:\n",
      "['hop', 'off', 'on', 'pop']\n"
     ]
    }
   ],
   "source": [
    "from sklearn.feature_extraction.text import CountVectorizer\n",
    "\n",
    "text = ['Hop on pop', 'Hop off pop', 'Hop Hop hop']\n",
    "print(\"Original text is\\n{}\".format('\\n'.join(text)))\n",
    "\n",
    "vectorizer = CountVectorizer(min_df=0)\n",
    "\n",
    "# call `fit` to build the vocabulary\n",
    "vectorizer.fit(text)\n",
    "\n",
    "# call `transform` to convert text to a bag of words\n",
    "x = vectorizer.transform(text)\n",
    "\n",
    "# CountVectorizer uses a sparse array to save memory, but it's easier in this assignment to \n",
    "# convert back to a \"normal\" numpy array\n",
    "x = x.toarray()\n",
    "\n",
    "print(\"\")\n",
    "print(\"Transformed text vector is \\n{}\".format(x))\n",
    "\n",
    "# `get_feature_names` tracks which word is associated with each column of the transformed x\n",
    "print(\"\")\n",
    "print(\"Words for each feature:\")\n",
    "print(vectorizer.get_feature_names())\n",
    "\n",
    "# Notice that the bag of words treatment doesn't preserve information about the *order* of words, \n",
    "# just their frequency"
   ]
  },
  {
   "cell_type": "code",
   "execution_count": 6,
   "metadata": {
    "collapsed": false
   },
   "outputs": [],
   "source": [
    "def make_xy(critics, vectorizer=None):\n",
    "    #Your code here    \n",
    "    if vectorizer is None:\n",
    "        vectorizer = CountVectorizer()\n",
    "    X = vectorizer.fit_transform(critics.quote)\n",
    "    X = X.tocsc()  # some versions of sklearn return COO format\n",
    "    y = (critics.fresh == 'fresh').values.astype(np.int)\n",
    "    return X, y\n",
    "X, y = make_xy(critics)"
   ]
  },
  {
   "cell_type": "markdown",
   "metadata": {},
   "source": [
    "## Naive Bayes"
   ]
  },
  {
   "cell_type": "markdown",
   "metadata": {},
   "source": [
    "From Bayes' Theorem, we have that\n",
    "\n",
    "$$P(c \\vert f) = \\frac{P(c \\cap f)}{P(f)}$$\n",
    "\n",
    "where $c$ represents a *class* or category, and $f$ represents a feature vector, such as $\\bar V(d)$ as above. **We are computing the probability that a document (or whatever we are classifying) belongs to category *c* given the features in the document.** $P(f)$ is really just a normalization constant, so the literature usually writes Bayes' Theorem in context of Naive Bayes as\n",
    "\n",
    "$$P(c \\vert f) \\propto P(f \\vert c) P(c) $$\n",
    "\n",
    "$P(c)$ is called the *prior* and is simply the probability of seeing class $c$. But what is $P(f \\vert c)$? This is the probability that we see feature set $f$ given that this document is actually in class $c$. This is called the *likelihood* and comes from the data. One of the major assumptions of the Naive Bayes model is that the features are *conditionally independent* given the class. While the presence of a particular discriminative word may uniquely identify the document as being part of class $c$ and thus violate general feature independence, conditional independence means that the presence of that term is independent of all the other words that appear *within that class*. This is a very important distinction. Recall that if two events are independent, then:\n",
    "\n",
    "$$P(A \\cap B) = P(A) \\cdot P(B)$$\n",
    "\n",
    "Thus, conditional independence implies\n",
    "\n",
    "$$P(f \\vert c)  = \\prod_i P(f_i | c) $$\n",
    "\n",
    "where $f_i$ is an individual feature (a word in this example).\n",
    "\n",
    "To make a classification, we then choose the class $c$ such that $P(c \\vert f)$ is maximal.\n",
    "\n",
    "There is a small caveat when computing these probabilities. For [floating point underflow](http://nlp.stanford.edu/IR-book/html/htmledition/naive-bayes-text-classification-1.html) we change the product into a sum by going into log space. This is called the LogSumExp trick. So:\n",
    "\n",
    "$$\\log P(f \\vert c)  = \\sum_i \\log P(f_i \\vert c) $$\n",
    "\n",
    "There is another caveat. What if we see a term that didn't exist in the training data? This means that $P(f_i \\vert c) = 0$ for that term, and thus $P(f \\vert c)  = \\prod_i P(f_i | c) = 0$, which doesn't help us at all. Instead of using zeros, we add a small negligible value called $\\alpha$ to each count. This is called Laplace Smoothing.\n",
    "\n",
    "$$P(f_i \\vert c) = \\frac{N_{ic}+\\alpha}{N_c + \\alpha N_i}$$\n",
    "\n",
    "where $N_{ic}$ is the number of times feature $i$ was seen in class $c$, $N_c$ is the number of times class $c$ was seen and $N_i$ is the number of times feature $i$ was seen globally. $\\alpha$ is sometimes called a regularization parameter."
   ]
  },
  {
   "cell_type": "markdown",
   "metadata": {},
   "source": [
    "### Multinomial Naive Bayes and Other Likelihood Functions\n",
    "\n",
    "Since we are modeling word counts, we are using variation of Naive Bayes called Multinomial Naive Bayes. This is because the likelihood function actually takes the form of the multinomial distribution.\n",
    "\n",
    "$$P(f \\vert c) = \\frac{\\left( \\sum_i f_i \\right)!}{\\prod_i f_i!} \\prod_{f_i} P(f_i \\vert c)^{f_i} \\propto \\prod_{i} P(f_i \\vert c)$$\n",
    "\n",
    "where the nasty term out front is absorbed as a normalization constant such that probabilities sum to 1.\n",
    "\n",
    "There are many other variations of Naive Bayes, all which depend on what type of value $f_i$ takes. If $f_i$ is continuous, we may be able to use *Gaussian Naive Bayes*. First compute the mean and variance for each class $c$. Then the likelihood, $P(f \\vert c)$ is given as follows\n",
    "\n",
    "$$P(f_i = v \\vert c) = \\frac{1}{\\sqrt{2\\pi \\sigma^2_c}} e^{- \\frac{\\left( v - \\mu_c \\right)^2}{2 \\sigma^2_c}}$$"
   ]
  },
  {
   "cell_type": "markdown",
   "metadata": {},
   "source": [
    "<div class=\"span5 alert alert-info\">\n",
    "<h3>Exercise Set II</h3>\n",
    "\n",
    "<p><b>Exercise:</b> Implement a simple Naive Bayes classifier:</p>\n",
    "\n",
    "<ol>\n",
    "<li> split the data set into a training and test set\n",
    "<li> Use `scikit-learn`'s `MultinomialNB()` classifier with default parameters.\n",
    "<li> train the classifier over the training set and test on the test set\n",
    "<li> print the accuracy scores for both the training and the test sets\n",
    "</ol>\n",
    "\n",
    "What do you notice? Is this a good classifier? If not, why not?\n",
    "</div>"
   ]
  },
  {
   "cell_type": "code",
   "execution_count": 7,
   "metadata": {
    "collapsed": false
   },
   "outputs": [
    {
     "data": {
      "text/plain": [
       "<15561x22417 sparse matrix of type '<class 'numpy.int64'>'\n",
       "\twith 272265 stored elements in Compressed Sparse Column format>"
      ]
     },
     "execution_count": 7,
     "metadata": {},
     "output_type": "execute_result"
    }
   ],
   "source": [
    "#your turn\n",
    "X"
   ]
  },
  {
   "cell_type": "code",
   "execution_count": 8,
   "metadata": {
    "collapsed": false
   },
   "outputs": [
    {
     "data": {
      "text/plain": [
       "array([1, 1, 1, ..., 1, 1, 1])"
      ]
     },
     "execution_count": 8,
     "metadata": {},
     "output_type": "execute_result"
    }
   ],
   "source": [
    "y"
   ]
  },
  {
   "cell_type": "code",
   "execution_count": 9,
   "metadata": {
    "collapsed": true
   },
   "outputs": [],
   "source": [
    "from sklearn.model_selection import train_test_split\n",
    "X_train, X_test, y_train, y_test = train_test_split(X, y)"
   ]
  },
  {
   "cell_type": "code",
   "execution_count": 10,
   "metadata": {
    "collapsed": true
   },
   "outputs": [],
   "source": [
    "from sklearn.naive_bayes import MultinomialNB\n",
    "NaBayes = MultinomialNB()"
   ]
  },
  {
   "cell_type": "code",
   "execution_count": 11,
   "metadata": {
    "collapsed": false
   },
   "outputs": [
    {
     "data": {
      "text/plain": [
       "MultinomialNB(alpha=1.0, class_prior=None, fit_prior=True)"
      ]
     },
     "execution_count": 11,
     "metadata": {},
     "output_type": "execute_result"
    }
   ],
   "source": [
    "NaBayes.fit(X_train, y_train)"
   ]
  },
  {
   "cell_type": "code",
   "execution_count": 12,
   "metadata": {
    "collapsed": false
   },
   "outputs": [
    {
     "name": "stdout",
     "output_type": "stream",
     "text": [
      "The accuracy score for the training set is 0.921165\n",
      "The accuracy score for the test set is 0.773323\n"
     ]
    }
   ],
   "source": [
    "print (\"The accuracy score for the training set is %f\" % NaBayes.score(X_train, y_train))\n",
    "print (\"The accuracy score for the test set is %f\" % NaBayes.score(X_test, y_test))"
   ]
  },
  {
   "cell_type": "code",
   "execution_count": null,
   "metadata": {
    "collapsed": true
   },
   "outputs": [],
   "source": []
  },
  {
   "cell_type": "code",
   "execution_count": null,
   "metadata": {
    "collapsed": true
   },
   "outputs": [],
   "source": []
  },
  {
   "cell_type": "markdown",
   "metadata": {},
   "source": [
    "### Picking Hyperparameters for Naive Bayes and Text Maintenance"
   ]
  },
  {
   "cell_type": "markdown",
   "metadata": {},
   "source": [
    "We need to know what value to use for $\\alpha$, and we also need to know which words to include in the vocabulary. As mentioned earlier, some words are obvious stopwords. Other words appear so infrequently that they serve as noise, and other words in addition to stopwords appear so frequently that they may also serve as noise."
   ]
  },
  {
   "cell_type": "markdown",
   "metadata": {},
   "source": [
    "First, let's find an appropriate value for `min_df` for the `CountVectorizer`. `min_df` can be either an integer or a float/decimal. If it is an integer, `min_df` represents the minimum number of documents a word must appear in for it to be included in the vocabulary. If it is a float, it represents the minimum *percentage* of documents a word must appear in to be included in the vocabulary. From the documentation:"
   ]
  },
  {
   "cell_type": "markdown",
   "metadata": {},
   "source": [
    ">min_df: When building the vocabulary ignore terms that have a document frequency strictly lower than the given threshold. This value is also called cut-off in the literature. If float, the parameter represents a proportion of documents, integer absolute counts. This parameter is ignored if vocabulary is not None."
   ]
  },
  {
   "cell_type": "markdown",
   "metadata": {},
   "source": [
    "<div class=\"span5 alert alert-info\">\n",
    "<h3>Exercise Set III</h3>\n",
    "\n",
    "<p><b>Exercise:</b> Construct the cumulative distribution of document frequencies (df). The $x$-axis is a document count $x_i$ and the $y$-axis is the percentage of words that appear less than $x_i$ times. For example, at $x=5$, plot a point representing the percentage or number of words that appear in 5 or fewer documents.</p>\n",
    "\n",
    "<p><b>Exercise:</b> Look for the point at which the curve begins climbing steeply. This may be a good value for `min_df`. If we were interested in also picking `max_df`, we would likely pick the value where the curve starts to plateau. What value did you choose?</p>\n",
    "</div>"
   ]
  },
  {
   "cell_type": "code",
   "execution_count": 13,
   "metadata": {
    "collapsed": false
   },
   "outputs": [],
   "source": [
    "# Your turn.\n",
    "docs_per_word = X.sum(axis=0)"
   ]
  },
  {
   "cell_type": "code",
   "execution_count": 14,
   "metadata": {
    "collapsed": false
   },
   "outputs": [
    {
     "data": {
      "text/plain": [
       "matrix([[ 8,  1, 10, ...,  3,  1,  1]])"
      ]
     },
     "execution_count": 14,
     "metadata": {},
     "output_type": "execute_result"
    }
   ],
   "source": [
    "docs_per_word"
   ]
  },
  {
   "cell_type": "code",
   "execution_count": null,
   "metadata": {
    "collapsed": false
   },
   "outputs": [],
   "source": []
  },
  {
   "cell_type": "code",
   "execution_count": 15,
   "metadata": {
    "collapsed": false
   },
   "outputs": [
    {
     "data": {
      "text/plain": [
       "{0: 0,\n",
       " 1: 9552,\n",
       " 2: 13038,\n",
       " 3: 14954,\n",
       " 4: 16213,\n",
       " 5: 17109,\n",
       " 6: 17743,\n",
       " 7: 18275,\n",
       " 8: 18690,\n",
       " 9: 19044,\n",
       " 10: 19338,\n",
       " 11: 19573,\n",
       " 12: 19785,\n",
       " 13: 19970,\n",
       " 14: 20146,\n",
       " 15: 20281,\n",
       " 16: 20385,\n",
       " 17: 20491,\n",
       " 18: 20581,\n",
       " 19: 20676,\n",
       " 20: 20753,\n",
       " 21: 20836,\n",
       " 22: 20911,\n",
       " 23: 20968,\n",
       " 24: 21016,\n",
       " 25: 21069,\n",
       " 26: 21122,\n",
       " 27: 21164,\n",
       " 28: 21212,\n",
       " 29: 21256,\n",
       " 30: 21301,\n",
       " 31: 21336,\n",
       " 32: 21364,\n",
       " 33: 21398,\n",
       " 34: 21434,\n",
       " 35: 21460,\n",
       " 36: 21487,\n",
       " 37: 21508,\n",
       " 38: 21526,\n",
       " 39: 21551,\n",
       " 40: 21570,\n",
       " 41: 21590,\n",
       " 42: 21613,\n",
       " 43: 21631,\n",
       " 44: 21652,\n",
       " 45: 21669,\n",
       " 46: 21686,\n",
       " 47: 21706,\n",
       " 48: 21716,\n",
       " 49: 21733,\n",
       " 50: 21745,\n",
       " 51: 21752,\n",
       " 52: 21765,\n",
       " 53: 21785,\n",
       " 54: 21791,\n",
       " 55: 21801,\n",
       " 56: 21818,\n",
       " 57: 21832,\n",
       " 58: 21842,\n",
       " 59: 21852,\n",
       " 60: 21865,\n",
       " 61: 21876,\n",
       " 62: 21886,\n",
       " 63: 21897,\n",
       " 64: 21906,\n",
       " 65: 21910,\n",
       " 66: 21922,\n",
       " 67: 21934,\n",
       " 68: 21941,\n",
       " 69: 21944,\n",
       " 70: 21947,\n",
       " 71: 21953,\n",
       " 72: 21958,\n",
       " 73: 21964,\n",
       " 74: 21970,\n",
       " 75: 21975,\n",
       " 76: 21986,\n",
       " 77: 21997,\n",
       " 78: 21999,\n",
       " 79: 22003,\n",
       " 80: 22014,\n",
       " 81: 22019,\n",
       " 82: 22024,\n",
       " 83: 22029,\n",
       " 84: 22036,\n",
       " 85: 22040,\n",
       " 86: 22045,\n",
       " 87: 22048,\n",
       " 88: 22050,\n",
       " 89: 22054,\n",
       " 90: 22057,\n",
       " 91: 22061,\n",
       " 92: 22062,\n",
       " 93: 22070,\n",
       " 94: 22075,\n",
       " 95: 22080,\n",
       " 96: 22084,\n",
       " 97: 22087,\n",
       " 98: 22089,\n",
       " 99: 22092,\n",
       " 100: 22097,\n",
       " 101: 22101,\n",
       " 102: 22103,\n",
       " 103: 22106,\n",
       " 104: 22108,\n",
       " 105: 22109,\n",
       " 106: 22117,\n",
       " 107: 22121,\n",
       " 108: 22123,\n",
       " 109: 22123,\n",
       " 110: 22126,\n",
       " 111: 22128,\n",
       " 112: 22134,\n",
       " 113: 22138,\n",
       " 114: 22138,\n",
       " 115: 22138,\n",
       " 116: 22146,\n",
       " 117: 22148,\n",
       " 118: 22151,\n",
       " 119: 22152,\n",
       " 120: 22152,\n",
       " 121: 22154,\n",
       " 122: 22155,\n",
       " 123: 22158,\n",
       " 124: 22159,\n",
       " 125: 22159,\n",
       " 126: 22160,\n",
       " 127: 22162,\n",
       " 128: 22166,\n",
       " 129: 22166,\n",
       " 130: 22167,\n",
       " 131: 22168,\n",
       " 132: 22168,\n",
       " 133: 22170,\n",
       " 134: 22173,\n",
       " 135: 22174,\n",
       " 136: 22174,\n",
       " 137: 22176,\n",
       " 138: 22180,\n",
       " 139: 22180,\n",
       " 140: 22181,\n",
       " 141: 22184,\n",
       " 142: 22188,\n",
       " 143: 22188,\n",
       " 144: 22191,\n",
       " 145: 22193,\n",
       " 146: 22196,\n",
       " 147: 22199,\n",
       " 148: 22199,\n",
       " 149: 22200,\n",
       " 150: 22201,\n",
       " 151: 22202,\n",
       " 152: 22202,\n",
       " 153: 22203,\n",
       " 154: 22204,\n",
       " 155: 22204,\n",
       " 156: 22207,\n",
       " 157: 22209,\n",
       " 158: 22211,\n",
       " 159: 22213,\n",
       " 160: 22215,\n",
       " 161: 22217,\n",
       " 162: 22218,\n",
       " 163: 22218,\n",
       " 164: 22218,\n",
       " 165: 22218,\n",
       " 166: 22221,\n",
       " 167: 22221,\n",
       " 168: 22221,\n",
       " 169: 22222,\n",
       " 170: 22224,\n",
       " 171: 22224,\n",
       " 172: 22226,\n",
       " 173: 22226,\n",
       " 174: 22226,\n",
       " 175: 22227,\n",
       " 176: 22228,\n",
       " 177: 22231,\n",
       " 178: 22232,\n",
       " 179: 22233,\n",
       " 180: 22233,\n",
       " 181: 22233,\n",
       " 182: 22234,\n",
       " 183: 22235,\n",
       " 184: 22236,\n",
       " 185: 22236,\n",
       " 186: 22239,\n",
       " 187: 22239,\n",
       " 188: 22240,\n",
       " 189: 22241,\n",
       " 190: 22241,\n",
       " 191: 22242,\n",
       " 192: 22244,\n",
       " 193: 22244,\n",
       " 194: 22244,\n",
       " 195: 22245,\n",
       " 196: 22247,\n",
       " 197: 22247,\n",
       " 198: 22248,\n",
       " 199: 22249,\n",
       " 200: 22250,\n",
       " 201: 22252,\n",
       " 202: 22253,\n",
       " 203: 22253,\n",
       " 204: 22253,\n",
       " 205: 22254,\n",
       " 206: 22254,\n",
       " 207: 22255,\n",
       " 208: 22257,\n",
       " 209: 22258,\n",
       " 210: 22259,\n",
       " 211: 22259,\n",
       " 212: 22260,\n",
       " 213: 22261,\n",
       " 214: 22263,\n",
       " 215: 22263,\n",
       " 216: 22263,\n",
       " 217: 22263,\n",
       " 218: 22263,\n",
       " 219: 22265,\n",
       " 220: 22265,\n",
       " 221: 22266,\n",
       " 222: 22267,\n",
       " 223: 22268,\n",
       " 224: 22268,\n",
       " 225: 22269,\n",
       " 226: 22270,\n",
       " 227: 22273,\n",
       " 228: 22273,\n",
       " 229: 22273,\n",
       " 230: 22273,\n",
       " 231: 22275,\n",
       " 232: 22277,\n",
       " 233: 22278,\n",
       " 234: 22279,\n",
       " 235: 22279,\n",
       " 236: 22280,\n",
       " 237: 22282,\n",
       " 238: 22282,\n",
       " 239: 22283,\n",
       " 240: 22283,\n",
       " 241: 22283,\n",
       " 242: 22284,\n",
       " 243: 22284,\n",
       " 244: 22287,\n",
       " 245: 22287,\n",
       " 246: 22287,\n",
       " 247: 22287,\n",
       " 248: 22288,\n",
       " 249: 22289,\n",
       " 250: 22289,\n",
       " 251: 22289,\n",
       " 252: 22292,\n",
       " 253: 22292,\n",
       " 254: 22293,\n",
       " 255: 22293,\n",
       " 256: 22294,\n",
       " 257: 22297,\n",
       " 258: 22300,\n",
       " 259: 22300,\n",
       " 260: 22301,\n",
       " 261: 22302,\n",
       " 262: 22302,\n",
       " 263: 22303,\n",
       " 264: 22304,\n",
       " 265: 22304,\n",
       " 266: 22305,\n",
       " 267: 22305,\n",
       " 268: 22305,\n",
       " 269: 22305,\n",
       " 270: 22305,\n",
       " 271: 22306,\n",
       " 272: 22307,\n",
       " 273: 22308,\n",
       " 274: 22309,\n",
       " 275: 22309,\n",
       " 276: 22310,\n",
       " 277: 22310,\n",
       " 278: 22311,\n",
       " 279: 22312,\n",
       " 280: 22312,\n",
       " 281: 22312,\n",
       " 282: 22313,\n",
       " 283: 22313,\n",
       " 284: 22315,\n",
       " 285: 22315,\n",
       " 286: 22315,\n",
       " 287: 22316,\n",
       " 288: 22317,\n",
       " 289: 22317,\n",
       " 290: 22318,\n",
       " 291: 22318,\n",
       " 292: 22318,\n",
       " 293: 22319,\n",
       " 294: 22319,\n",
       " 295: 22320,\n",
       " 296: 22322,\n",
       " 297: 22322,\n",
       " 298: 22322,\n",
       " 299: 22322,\n",
       " 300: 22322,\n",
       " 301: 22323,\n",
       " 302: 22323,\n",
       " 303: 22323,\n",
       " 304: 22323,\n",
       " 305: 22324,\n",
       " 306: 22325,\n",
       " 307: 22325,\n",
       " 308: 22325,\n",
       " 309: 22325,\n",
       " 310: 22325,\n",
       " 311: 22325,\n",
       " 312: 22325,\n",
       " 313: 22325,\n",
       " 314: 22325,\n",
       " 315: 22325,\n",
       " 316: 22325,\n",
       " 317: 22325,\n",
       " 318: 22325,\n",
       " 319: 22325,\n",
       " 320: 22326,\n",
       " 321: 22326,\n",
       " 322: 22327,\n",
       " 323: 22327,\n",
       " 324: 22328,\n",
       " 325: 22328,\n",
       " 326: 22328,\n",
       " 327: 22328,\n",
       " 328: 22328,\n",
       " 329: 22328,\n",
       " 330: 22329,\n",
       " 331: 22329,\n",
       " 332: 22329,\n",
       " 333: 22329,\n",
       " 334: 22329,\n",
       " 335: 22329,\n",
       " 336: 22330,\n",
       " 337: 22330,\n",
       " 338: 22330,\n",
       " 339: 22330,\n",
       " 340: 22330,\n",
       " 341: 22331,\n",
       " 342: 22331,\n",
       " 343: 22332,\n",
       " 344: 22333,\n",
       " 345: 22333,\n",
       " 346: 22333,\n",
       " 347: 22333,\n",
       " 348: 22333,\n",
       " 349: 22333,\n",
       " 350: 22333,\n",
       " 351: 22333,\n",
       " 352: 22333,\n",
       " 353: 22333,\n",
       " 354: 22334,\n",
       " 355: 22334,\n",
       " 356: 22334,\n",
       " 357: 22334,\n",
       " 358: 22334,\n",
       " 359: 22334,\n",
       " 360: 22334,\n",
       " 361: 22334,\n",
       " 362: 22334,\n",
       " 363: 22335,\n",
       " 364: 22336,\n",
       " 365: 22336,\n",
       " 366: 22336,\n",
       " 367: 22337,\n",
       " 368: 22337,\n",
       " 369: 22338,\n",
       " 370: 22339,\n",
       " 371: 22339,\n",
       " 372: 22339,\n",
       " 373: 22339,\n",
       " 374: 22339,\n",
       " 375: 22339,\n",
       " 376: 22339,\n",
       " 377: 22339,\n",
       " 378: 22339,\n",
       " 379: 22339,\n",
       " 380: 22339,\n",
       " 381: 22339,\n",
       " 382: 22339,\n",
       " 383: 22340,\n",
       " 384: 22340,\n",
       " 385: 22340,\n",
       " 386: 22341,\n",
       " 387: 22342,\n",
       " 388: 22343,\n",
       " 389: 22343,\n",
       " 390: 22343,\n",
       " 391: 22343,\n",
       " 392: 22343,\n",
       " 393: 22343,\n",
       " 394: 22343,\n",
       " 395: 22343,\n",
       " 396: 22344,\n",
       " 397: 22344,\n",
       " 398: 22344,\n",
       " 399: 22345,\n",
       " 400: 22345,\n",
       " 401: 22345,\n",
       " 402: 22345,\n",
       " 403: 22345,\n",
       " 404: 22345,\n",
       " 405: 22345,\n",
       " 406: 22345,\n",
       " 407: 22345,\n",
       " 408: 22345,\n",
       " 409: 22345,\n",
       " 410: 22345,\n",
       " 411: 22345,\n",
       " 412: 22345,\n",
       " 413: 22346,\n",
       " 414: 22346,\n",
       " 415: 22347,\n",
       " 416: 22347,\n",
       " 417: 22348,\n",
       " 418: 22348,\n",
       " 419: 22348,\n",
       " 420: 22348,\n",
       " 421: 22348,\n",
       " 422: 22349,\n",
       " 423: 22349,\n",
       " 424: 22349,\n",
       " 425: 22349,\n",
       " 426: 22349,\n",
       " 427: 22349,\n",
       " 428: 22349,\n",
       " 429: 22349,\n",
       " 430: 22349,\n",
       " 431: 22349,\n",
       " 432: 22349,\n",
       " 433: 22350,\n",
       " 434: 22351,\n",
       " 435: 22351,\n",
       " 436: 22351,\n",
       " 437: 22351,\n",
       " 438: 22353,\n",
       " 439: 22354,\n",
       " 440: 22354,\n",
       " 441: 22354,\n",
       " 442: 22354,\n",
       " 443: 22355,\n",
       " 444: 22355,\n",
       " 445: 22355,\n",
       " 446: 22355,\n",
       " 447: 22355,\n",
       " 448: 22355,\n",
       " 449: 22355,\n",
       " 450: 22355,\n",
       " 451: 22355,\n",
       " 452: 22355,\n",
       " 453: 22355,\n",
       " 454: 22355,\n",
       " 455: 22355,\n",
       " 456: 22355,\n",
       " 457: 22355,\n",
       " 458: 22355,\n",
       " 459: 22355,\n",
       " 460: 22355,\n",
       " 461: 22355,\n",
       " 462: 22356,\n",
       " 463: 22356,\n",
       " 464: 22356,\n",
       " 465: 22356,\n",
       " 466: 22356,\n",
       " 467: 22356,\n",
       " 468: 22356,\n",
       " 469: 22357,\n",
       " 470: 22357,\n",
       " 471: 22357,\n",
       " 472: 22358,\n",
       " 473: 22358,\n",
       " 474: 22358,\n",
       " 475: 22358,\n",
       " 476: 22358,\n",
       " 477: 22358,\n",
       " 478: 22359,\n",
       " 479: 22359,\n",
       " 480: 22359,\n",
       " 481: 22359,\n",
       " 482: 22359,\n",
       " 483: 22359,\n",
       " 484: 22359,\n",
       " 485: 22359,\n",
       " 486: 22359,\n",
       " 487: 22359,\n",
       " 488: 22359,\n",
       " 489: 22359,\n",
       " 490: 22359,\n",
       " 491: 22359,\n",
       " 492: 22359,\n",
       " 493: 22359,\n",
       " 494: 22359,\n",
       " 495: 22359,\n",
       " 496: 22360,\n",
       " 497: 22360,\n",
       " 498: 22360,\n",
       " 499: 22360,\n",
       " 500: 22360,\n",
       " 501: 22360,\n",
       " 502: 22360,\n",
       " 503: 22360,\n",
       " 504: 22361,\n",
       " 505: 22361,\n",
       " 506: 22361,\n",
       " 507: 22362,\n",
       " 508: 22362,\n",
       " 509: 22362,\n",
       " 510: 22362,\n",
       " 511: 22362,\n",
       " 512: 22362,\n",
       " 513: 22362,\n",
       " 514: 22362,\n",
       " 515: 22362,\n",
       " 516: 22362,\n",
       " 517: 22362,\n",
       " 518: 22362,\n",
       " 519: 22362,\n",
       " 520: 22362,\n",
       " 521: 22362,\n",
       " 522: 22362,\n",
       " 523: 22362,\n",
       " 524: 22362,\n",
       " 525: 22362,\n",
       " 526: 22362,\n",
       " 527: 22362,\n",
       " 528: 22362,\n",
       " 529: 22362,\n",
       " 530: 22362,\n",
       " 531: 22363,\n",
       " 532: 22363,\n",
       " 533: 22363,\n",
       " 534: 22363,\n",
       " 535: 22363,\n",
       " 536: 22363,\n",
       " 537: 22363,\n",
       " 538: 22363,\n",
       " 539: 22363,\n",
       " 540: 22364,\n",
       " 541: 22364,\n",
       " 542: 22364,\n",
       " 543: 22364,\n",
       " 544: 22364,\n",
       " 545: 22366,\n",
       " 546: 22366,\n",
       " 547: 22366,\n",
       " 548: 22366,\n",
       " 549: 22366,\n",
       " 550: 22366,\n",
       " 551: 22366,\n",
       " 552: 22366,\n",
       " 553: 22366,\n",
       " 554: 22366,\n",
       " 555: 22366,\n",
       " 556: 22366,\n",
       " 557: 22366,\n",
       " 558: 22366,\n",
       " 559: 22366,\n",
       " 560: 22366,\n",
       " 561: 22366,\n",
       " 562: 22366,\n",
       " 563: 22366,\n",
       " 564: 22366,\n",
       " 565: 22366,\n",
       " 566: 22366,\n",
       " 567: 22366,\n",
       " 568: 22366,\n",
       " 569: 22366,\n",
       " 570: 22366,\n",
       " 571: 22366,\n",
       " 572: 22367,\n",
       " 573: 22367,\n",
       " 574: 22367,\n",
       " 575: 22367,\n",
       " 576: 22367,\n",
       " 577: 22367,\n",
       " 578: 22367,\n",
       " 579: 22367,\n",
       " 580: 22367,\n",
       " 581: 22367,\n",
       " 582: 22367,\n",
       " 583: 22367,\n",
       " 584: 22367,\n",
       " 585: 22367,\n",
       " 586: 22367,\n",
       " 587: 22367,\n",
       " 588: 22367,\n",
       " 589: 22367,\n",
       " 590: 22367,\n",
       " 591: 22368,\n",
       " 592: 22368,\n",
       " 593: 22368,\n",
       " 594: 22368,\n",
       " 595: 22368,\n",
       " 596: 22368,\n",
       " 597: 22368,\n",
       " 598: 22368,\n",
       " 599: 22369,\n",
       " 600: 22369,\n",
       " 601: 22369,\n",
       " 602: 22369,\n",
       " 603: 22369,\n",
       " 604: 22369,\n",
       " 605: 22369,\n",
       " 606: 22369,\n",
       " 607: 22369,\n",
       " 608: 22369,\n",
       " 609: 22369,\n",
       " 610: 22369,\n",
       " 611: 22369,\n",
       " 612: 22369,\n",
       " 613: 22369,\n",
       " 614: 22369,\n",
       " 615: 22370,\n",
       " 616: 22370,\n",
       " 617: 22370,\n",
       " 618: 22370,\n",
       " 619: 22370,\n",
       " 620: 22370,\n",
       " 621: 22370,\n",
       " 622: 22370,\n",
       " 623: 22370,\n",
       " 624: 22370,\n",
       " 625: 22370,\n",
       " 626: 22370,\n",
       " 627: 22370,\n",
       " 628: 22370,\n",
       " 629: 22370,\n",
       " 630: 22370,\n",
       " 631: 22370,\n",
       " 632: 22370,\n",
       " 633: 22370,\n",
       " 634: 22370,\n",
       " 635: 22370,\n",
       " 636: 22370,\n",
       " 637: 22370,\n",
       " 638: 22370,\n",
       " 639: 22370,\n",
       " 640: 22370,\n",
       " 641: 22370,\n",
       " 642: 22370,\n",
       " 643: 22370,\n",
       " 644: 22371,\n",
       " 645: 22371,\n",
       " 646: 22371,\n",
       " 647: 22371,\n",
       " 648: 22371,\n",
       " 649: 22371,\n",
       " 650: 22371,\n",
       " 651: 22371,\n",
       " 652: 22371,\n",
       " 653: 22371,\n",
       " 654: 22371,\n",
       " 655: 22371,\n",
       " 656: 22371,\n",
       " 657: 22372,\n",
       " 658: 22372,\n",
       " 659: 22372,\n",
       " 660: 22372,\n",
       " 661: 22372,\n",
       " 662: 22372,\n",
       " 663: 22373,\n",
       " 664: 22373,\n",
       " 665: 22373,\n",
       " 666: 22373,\n",
       " 667: 22373,\n",
       " 668: 22373,\n",
       " 669: 22373,\n",
       " 670: 22373,\n",
       " 671: 22373,\n",
       " 672: 22373,\n",
       " 673: 22373,\n",
       " 674: 22373,\n",
       " 675: 22373,\n",
       " 676: 22373,\n",
       " 677: 22373,\n",
       " 678: 22373,\n",
       " 679: 22373,\n",
       " 680: 22373,\n",
       " 681: 22373,\n",
       " 682: 22373,\n",
       " 683: 22373,\n",
       " 684: 22373,\n",
       " 685: 22373,\n",
       " 686: 22373,\n",
       " 687: 22373,\n",
       " 688: 22374,\n",
       " 689: 22375,\n",
       " 690: 22375,\n",
       " 691: 22376,\n",
       " 692: 22376,\n",
       " 693: 22376,\n",
       " 694: 22376,\n",
       " 695: 22376,\n",
       " 696: 22376,\n",
       " 697: 22376,\n",
       " 698: 22376,\n",
       " 699: 22376,\n",
       " 700: 22376,\n",
       " 701: 22376,\n",
       " 702: 22377,\n",
       " 703: 22378,\n",
       " 704: 22378,\n",
       " 705: 22378,\n",
       " 706: 22378,\n",
       " 707: 22378,\n",
       " 708: 22378,\n",
       " 709: 22378,\n",
       " 710: 22378,\n",
       " 711: 22379,\n",
       " 712: 22379,\n",
       " 713: 22379,\n",
       " 714: 22379,\n",
       " 715: 22379,\n",
       " 716: 22379,\n",
       " 717: 22379,\n",
       " 718: 22379,\n",
       " 719: 22379,\n",
       " 720: 22379,\n",
       " 721: 22379,\n",
       " 722: 22379,\n",
       " 723: 22379,\n",
       " 724: 22379,\n",
       " 725: 22379,\n",
       " 726: 22379,\n",
       " 727: 22379,\n",
       " 728: 22379,\n",
       " 729: 22379,\n",
       " 730: 22379,\n",
       " 731: 22379,\n",
       " 732: 22379,\n",
       " 733: 22379,\n",
       " 734: 22379,\n",
       " 735: 22379,\n",
       " 736: 22379,\n",
       " 737: 22379,\n",
       " 738: 22379,\n",
       " 739: 22379,\n",
       " 740: 22379,\n",
       " 741: 22379,\n",
       " 742: 22379,\n",
       " 743: 22379,\n",
       " 744: 22380,\n",
       " 745: 22380,\n",
       " 746: 22380,\n",
       " 747: 22380,\n",
       " 748: 22380,\n",
       " 749: 22380,\n",
       " 750: 22380,\n",
       " 751: 22380,\n",
       " 752: 22380,\n",
       " 753: 22380,\n",
       " 754: 22380,\n",
       " 755: 22380,\n",
       " 756: 22380,\n",
       " 757: 22380,\n",
       " 758: 22380,\n",
       " 759: 22380,\n",
       " 760: 22380,\n",
       " 761: 22380,\n",
       " 762: 22380,\n",
       " 763: 22380,\n",
       " 764: 22380,\n",
       " 765: 22380,\n",
       " 766: 22380,\n",
       " 767: 22380,\n",
       " 768: 22380,\n",
       " 769: 22380,\n",
       " 770: 22380,\n",
       " 771: 22380,\n",
       " 772: 22380,\n",
       " 773: 22380,\n",
       " 774: 22380,\n",
       " 775: 22380,\n",
       " 776: 22380,\n",
       " 777: 22380,\n",
       " 778: 22380,\n",
       " 779: 22380,\n",
       " 780: 22380,\n",
       " 781: 22380,\n",
       " 782: 22380,\n",
       " 783: 22380,\n",
       " 784: 22380,\n",
       " 785: 22380,\n",
       " 786: 22380,\n",
       " 787: 22380,\n",
       " 788: 22380,\n",
       " 789: 22380,\n",
       " 790: 22381,\n",
       " 791: 22381,\n",
       " 792: 22381,\n",
       " 793: 22381,\n",
       " 794: 22381,\n",
       " 795: 22381,\n",
       " 796: 22381,\n",
       " 797: 22381,\n",
       " 798: 22381,\n",
       " 799: 22381,\n",
       " 800: 22381,\n",
       " 801: 22381,\n",
       " 802: 22381,\n",
       " 803: 22381,\n",
       " 804: 22381,\n",
       " 805: 22381,\n",
       " 806: 22381,\n",
       " 807: 22381,\n",
       " 808: 22381,\n",
       " 809: 22381,\n",
       " 810: 22381,\n",
       " 811: 22381,\n",
       " 812: 22381,\n",
       " 813: 22381,\n",
       " 814: 22381,\n",
       " 815: 22381,\n",
       " 816: 22381,\n",
       " 817: 22381,\n",
       " 818: 22381,\n",
       " 819: 22381,\n",
       " 820: 22381,\n",
       " 821: 22382,\n",
       " 822: 22382,\n",
       " 823: 22382,\n",
       " 824: 22382,\n",
       " 825: 22382,\n",
       " 826: 22382,\n",
       " 827: 22382,\n",
       " 828: 22382,\n",
       " 829: 22382,\n",
       " 830: 22382,\n",
       " 831: 22382,\n",
       " 832: 22382,\n",
       " 833: 22382,\n",
       " 834: 22382,\n",
       " 835: 22382,\n",
       " 836: 22382,\n",
       " 837: 22382,\n",
       " 838: 22382,\n",
       " 839: 22382,\n",
       " 840: 22382,\n",
       " 841: 22382,\n",
       " 842: 22382,\n",
       " 843: 22382,\n",
       " 844: 22382,\n",
       " 845: 22382,\n",
       " 846: 22382,\n",
       " 847: 22382,\n",
       " 848: 22382,\n",
       " 849: 22382,\n",
       " 850: 22382,\n",
       " 851: 22382,\n",
       " 852: 22382,\n",
       " 853: 22382,\n",
       " 854: 22382,\n",
       " 855: 22382,\n",
       " 856: 22382,\n",
       " 857: 22382,\n",
       " 858: 22382,\n",
       " 859: 22382,\n",
       " 860: 22382,\n",
       " 861: 22382,\n",
       " 862: 22382,\n",
       " 863: 22382,\n",
       " 864: 22383,\n",
       " 865: 22383,\n",
       " 866: 22383,\n",
       " 867: 22383,\n",
       " 868: 22383,\n",
       " 869: 22383,\n",
       " 870: 22383,\n",
       " 871: 22383,\n",
       " 872: 22383,\n",
       " 873: 22383,\n",
       " 874: 22383,\n",
       " 875: 22384,\n",
       " 876: 22384,\n",
       " 877: 22384,\n",
       " 878: 22384,\n",
       " 879: 22384,\n",
       " 880: 22384,\n",
       " 881: 22384,\n",
       " 882: 22384,\n",
       " 883: 22384,\n",
       " 884: 22384,\n",
       " 885: 22384,\n",
       " 886: 22384,\n",
       " 887: 22385,\n",
       " 888: 22385,\n",
       " 889: 22385,\n",
       " 890: 22385,\n",
       " 891: 22385,\n",
       " 892: 22385,\n",
       " 893: 22385,\n",
       " 894: 22385,\n",
       " 895: 22385,\n",
       " 896: 22385,\n",
       " 897: 22385,\n",
       " 898: 22385,\n",
       " 899: 22385,\n",
       " 900: 22385,\n",
       " 901: 22385,\n",
       " 902: 22385,\n",
       " 903: 22385,\n",
       " 904: 22385,\n",
       " 905: 22385,\n",
       " 906: 22385,\n",
       " 907: 22385,\n",
       " 908: 22385,\n",
       " 909: 22385,\n",
       " 910: 22385,\n",
       " 911: 22385,\n",
       " 912: 22385,\n",
       " 913: 22385,\n",
       " 914: 22385,\n",
       " 915: 22385,\n",
       " 916: 22385,\n",
       " 917: 22385,\n",
       " 918: 22385,\n",
       " 919: 22385,\n",
       " 920: 22385,\n",
       " 921: 22385,\n",
       " 922: 22385,\n",
       " 923: 22385,\n",
       " 924: 22385,\n",
       " 925: 22385,\n",
       " 926: 22385,\n",
       " 927: 22385,\n",
       " 928: 22385,\n",
       " 929: 22385,\n",
       " 930: 22385,\n",
       " 931: 22385,\n",
       " 932: 22385,\n",
       " 933: 22385,\n",
       " 934: 22385,\n",
       " 935: 22385,\n",
       " 936: 22385,\n",
       " 937: 22385,\n",
       " 938: 22385,\n",
       " 939: 22385,\n",
       " 940: 22385,\n",
       " 941: 22385,\n",
       " 942: 22385,\n",
       " 943: 22385,\n",
       " 944: 22385,\n",
       " 945: 22385,\n",
       " 946: 22385,\n",
       " 947: 22385,\n",
       " 948: 22385,\n",
       " 949: 22385,\n",
       " 950: 22385,\n",
       " 951: 22385,\n",
       " 952: 22385,\n",
       " 953: 22385,\n",
       " 954: 22385,\n",
       " 955: 22385,\n",
       " 956: 22385,\n",
       " 957: 22385,\n",
       " 958: 22385,\n",
       " 959: 22385,\n",
       " 960: 22385,\n",
       " 961: 22385,\n",
       " 962: 22385,\n",
       " 963: 22385,\n",
       " 964: 22385,\n",
       " 965: 22385,\n",
       " 966: 22385,\n",
       " 967: 22385,\n",
       " 968: 22385,\n",
       " 969: 22385,\n",
       " 970: 22385,\n",
       " 971: 22385,\n",
       " 972: 22385,\n",
       " 973: 22385,\n",
       " 974: 22385,\n",
       " 975: 22385,\n",
       " 976: 22385,\n",
       " 977: 22385,\n",
       " 978: 22385,\n",
       " 979: 22385,\n",
       " 980: 22385,\n",
       " 981: 22385,\n",
       " 982: 22385,\n",
       " 983: 22385,\n",
       " 984: 22385,\n",
       " 985: 22385,\n",
       " 986: 22385,\n",
       " 987: 22385,\n",
       " 988: 22385,\n",
       " 989: 22385,\n",
       " 990: 22385,\n",
       " 991: 22385,\n",
       " 992: 22385,\n",
       " 993: 22386,\n",
       " 994: 22386,\n",
       " 995: 22386,\n",
       " 996: 22386,\n",
       " 997: 22386,\n",
       " 998: 22386,\n",
       " 999: 22386,\n",
       " ...}"
      ]
     },
     "execution_count": 15,
     "metadata": {},
     "output_type": "execute_result"
    }
   ],
   "source": [
    "CumulativeWords = {}\n",
    "for n in range(docs_per_word.max() + 1):\n",
    "    CumulativeWords[n] = np.sum(docs_per_word <= n)\n",
    "CumulativeWords"
   ]
  },
  {
   "cell_type": "code",
   "execution_count": 16,
   "metadata": {
    "collapsed": false
   },
   "outputs": [
    {
     "data": {
      "text/plain": [
       "<matplotlib.collections.PathCollection at 0x113d7cb38>"
      ]
     },
     "execution_count": 16,
     "metadata": {},
     "output_type": "execute_result"
    },
    {
     "data": {
      "image/png": "[encoded data removed]",
      "text/plain": [
       "<matplotlib.figure.Figure at 0x113f38550>"
      ]
     },
     "metadata": {},
     "output_type": "display_data"
    }
   ],
   "source": [
    "import matplotlib.pyplot as plt\n",
    "plt.scatter(x=list(CumulativeWords.keys()), y=list(CumulativeWords.values()))"
   ]
  },
  {
   "cell_type": "markdown",
   "metadata": {},
   "source": [
    "There are 17109 words that are in 5 documents.\n",
    "The plot climbs steeply from the start, the min_df set at 0 is ok.  The plot plateaus at around 20,000, that correspond to about 13."
   ]
  },
  {
   "cell_type": "code",
   "execution_count": null,
   "metadata": {
    "collapsed": true
   },
   "outputs": [],
   "source": []
  },
  {
   "cell_type": "code",
   "execution_count": null,
   "metadata": {
    "collapsed": true
   },
   "outputs": [],
   "source": []
  },
  {
   "cell_type": "markdown",
   "metadata": {},
   "source": [
    "The parameter $\\alpha$ is chosen to be a small value that simply avoids having zeros in the probability computations. This value can sometimes be chosen arbitrarily with domain expertise, but we will use K-fold cross validation. In K-fold cross-validation, we divide the data into $K$ non-overlapping parts. We train on $K-1$ of the folds and test on the remaining fold. We then iterate, so that each fold serves as the test fold exactly once. The function `cv_score` performs the K-fold cross-validation algorithm for us, but we need to pass a function that measures the performance of the algorithm on each fold. "
   ]
  },
  {
   "cell_type": "code",
   "execution_count": 17,
   "metadata": {
    "collapsed": false
   },
   "outputs": [],
   "source": [
    "from sklearn.model_selection import KFold\n",
    "def cv_score(clf, X, y, scorefunc):\n",
    "    result = 0.\n",
    "    nfold = 5\n",
    "    for train, test in KFold(nfold).split(X): # split data into train/test groups, 5 times\n",
    "        clf.fit(X[train], y[train]) # fit the classifier, passed is as clf.\n",
    "        result += scorefunc(clf, X[test], y[test]) # evaluate score function on held-out data\n",
    "    return result / nfold # average"
   ]
  },
  {
   "cell_type": "markdown",
   "metadata": {},
   "source": [
    "We use the log-likelihood as the score here in `scorefunc`. The higher the log-likelihood, the better. Indeed, what we do in `cv_score` above is to implement the cross-validation part of `GridSearchCV`.\n",
    "\n",
    "The custom scoring function `scorefunc` allows us to use different metrics depending on the decision risk we care about (precision, accuracy, profit etc.) directly on the validation set. You will often find people using `roc_auc`, precision, recall, or `F1-score` as the scoring function."
   ]
  },
  {
   "cell_type": "code",
   "execution_count": 18,
   "metadata": {
    "collapsed": false
   },
   "outputs": [],
   "source": [
    "def log_likelihood(clf, x, y):\n",
    "    prob = clf.predict_log_proba(x)\n",
    "    rotten = y == 0\n",
    "    fresh = ~rotten\n",
    "    return prob[rotten, 0].sum() + prob[fresh, 1].sum()"
   ]
  },
  {
   "cell_type": "markdown",
   "metadata": {},
   "source": [
    "We'll cross-validate over the regularization parameter $\\alpha$."
   ]
  },
  {
   "cell_type": "markdown",
   "metadata": {},
   "source": [
    "Let's set up the train and test masks first, and then we can run the cross-validation procedure."
   ]
  },
  {
   "cell_type": "code",
   "execution_count": 19,
   "metadata": {
    "collapsed": false
   },
   "outputs": [],
   "source": [
    "from sklearn.model_selection import train_test_split\n",
    "_, itest = train_test_split(range(critics.shape[0]), train_size=0.7)\n",
    "mask = np.zeros(critics.shape[0], dtype=np.bool)\n",
    "mask[itest] = True"
   ]
  },
  {
   "cell_type": "markdown",
   "metadata": {},
   "source": [
    "<div class=\"span5 alert alert-info\">\n",
    "<h3>Exercise Set IV</h3>\n",
    "\n",
    "<p><b>Exercise:</b> What does using the function `log_likelihood` as the score mean? What are we trying to optimize for?</p>\n",
    "\n",
    "<p><b>Exercise:</b> Without writing any code, what do you think would happen if you choose a value of $\\alpha$ that is too high?</p>\n",
    "\n",
    "<p><b>Exercise:</b> Using the skeleton code below, find the best values of the parameter `alpha`, and use the value of `min_df` you chose in the previous exercise set. Use the `cv_score` function above with the `log_likelihood` function for scoring.</p>\n",
    "</div>"
   ]
  },
  {
   "cell_type": "code",
   "execution_count": null,
   "metadata": {
    "collapsed": true
   },
   "outputs": [],
   "source": [
    "The log_liklihood function returns the "
   ]
  },
  {
   "cell_type": "markdown",
   "metadata": {},
   "source": [
    "alpha is smoothing factor, additive smoothing allows the assignment of non-zero probabilities to words which do not occur in the sample, allow for rare words. An alpha too high would decrease accuracy."
   ]
  },
  {
   "cell_type": "code",
   "execution_count": null,
   "metadata": {
    "collapsed": false
   },
   "outputs": [],
   "source": []
  },
  {
   "cell_type": "code",
   "execution_count": 71,
   "metadata": {
    "collapsed": false
   },
   "outputs": [
    {
     "name": "stdout",
     "output_type": "stream",
     "text": [
      "log probabilities:\n",
      " [[ -1.33371137e+01  -1.61348703e-06]\n",
      " [ -1.30148301e+01  -2.22705836e-06]\n",
      " [ -2.98416009e-02  -3.52673555e+00]\n",
      " [ -1.85814127e+00  -1.69558062e-01]]\n",
      "probabilities: \n",
      " [[ 0.0317478   0.9682522 ]\n",
      " [ 0.96518707  0.03481293]\n",
      " [ 0.86464893  0.13535107]\n",
      " [ 0.95582564  0.04417436]]\n"
     ]
    }
   ],
   "source": [
    "\n",
    "from sklearn import naive_bayes as nb\n",
    "from sklearn import metrics\n",
    "classifier = nb.MultinomialNB()\n",
    "classifier.fit(X_train,y_train)\n",
    "lprob=classifier.predict_log_proba(X_train)\n",
    "prob=classifier.predict_proba(X_test)\n",
    "rotten = y_test==0\n",
    "fresh = ~rotten\n",
    "print ('log probabilities:\\n', lprob[0:4,])\n",
    "print ('probabilities: \\n',prob[0:4,])"
   ]
  },
  {
   "cell_type": "code",
   "execution_count": null,
   "metadata": {
    "collapsed": true
   },
   "outputs": [],
   "source": []
  },
  {
   "cell_type": "code",
   "execution_count": 59,
   "metadata": {
    "collapsed": false
   },
   "outputs": [],
   "source": [
    "from sklearn.naive_bayes import MultinomialNB\n",
    "\n",
    "#the grid of parameters to search over\n",
    "alphas = [.1, 1, 5, 10, 50]\n",
    "min_dfs = [1e-5, 1e-4, 1e-3, 1e-2, 1e-1]\n",
    "\n",
    "best_min_df = None # YOUR TURN: put your value of min_df here.\n",
    "\n",
    "#Find the best value for alpha and min_df, and the best classifier\n",
    "best_alpha = None\n",
    "best_min_df = None\n",
    "best_classifier=None\n",
    "maxscore=-np.inf\n",
    "for alpha in alphas:\n",
    "    for min_df in min_dfs:         \n",
    "        vectorizer = CountVectorizer(min_df = min_df)       \n",
    "        Xthis, ythis = make_xy(critics, vectorizer)\n",
    "        Xtrainthis=Xthis[mask]\n",
    "        ytrainthis=ythis[mask]\n",
    "        #your turn\n",
    "        Xtestthis=Xthis[~mask]\n",
    "        ytestthis=ythis[~mask]\n",
    "        classifier = nb.MultinomialNB(alpha=alpha)\n",
    "        classifier.fit(Xtrainthis,ytrainthis)\n",
    "        score=cv_score(classifier, Xtestthis, ytestthis, log_likelihood)\n",
    "        if score > maxscore:\n",
    "            maxscore = score\n",
    "            best_alpha = alpha\n",
    "            best_min_df = min_df\n",
    "            best_classifier = classifier\n",
    "    # your turn"
   ]
  },
  {
   "cell_type": "code",
   "execution_count": 60,
   "metadata": {
    "collapsed": false
   },
   "outputs": [
    {
     "name": "stdout",
     "output_type": "stream",
     "text": [
      "alpha: 5\n",
      "min_df: 0.001000\n"
     ]
    }
   ],
   "source": [
    "print(\"alpha: {}\".format(best_alpha))\n",
    "print (\"min_df: %f\" % best_min_df)"
   ]
  },
  {
   "cell_type": "markdown",
   "metadata": {},
   "source": [
    "<div class=\"span5 alert alert-info\">\n",
    "<h3>Exercise Set V: Working with the Best Parameters</h3>\n",
    "\n",
    "<p><b>Exercise:</b> Using the best value of  `alpha` you just found, calculate the accuracy on the training and test sets. Is this classifier better? Why (not)?</p>\n",
    "\n",
    "</div>"
   ]
  },
  {
   "cell_type": "code",
   "execution_count": 25,
   "metadata": {
    "collapsed": false
   },
   "outputs": [
    {
     "name": "stdout",
     "output_type": "stream",
     "text": [
      "Accuracy on training data: 0.800600\n",
      "Accuracy on test data:     0.717775\n"
     ]
    }
   ],
   "source": [
    "vectorizer = CountVectorizer(min_df=best_min_df)\n",
    "X, y = make_xy(critics, vectorizer)\n",
    "xtrain=X[mask]\n",
    "ytrain=y[mask]\n",
    "xtest=X[~mask]\n",
    "ytest=y[~mask]\n",
    "\n",
    "clf = MultinomialNB(alpha=best_alpha).fit(xtrain, ytrain)\n",
    "\n",
    "#your turn. Print the accuracy on the test and training dataset\n",
    "training_accuracy = clf.score(xtrain, ytrain)\n",
    "test_accuracy = clf.score(xtest, ytest)\n",
    "\n",
    "print(\"Accuracy on training data: {:2f}\".format(training_accuracy))\n",
    "print(\"Accuracy on test data:     {:2f}\".format(test_accuracy))"
   ]
  },
  {
   "cell_type": "code",
   "execution_count": 26,
   "metadata": {
    "collapsed": false
   },
   "outputs": [
    {
     "name": "stdout",
     "output_type": "stream",
     "text": [
      "[[2099 2139]\n",
      " [ 935 5719]]\n"
     ]
    }
   ],
   "source": [
    "from sklearn.metrics import confusion_matrix\n",
    "print(confusion_matrix(ytest, clf.predict(xtest)))"
   ]
  },
  {
   "cell_type": "markdown",
   "metadata": {},
   "source": [
    "## Interpretation"
   ]
  },
  {
   "cell_type": "markdown",
   "metadata": {},
   "source": [
    "### What are the strongly predictive features?\n",
    "\n",
    "We use a neat trick to identify strongly predictive features (i.e. words). \n",
    "\n",
    "* first, create a data set such that each row has exactly one feature. This is represented by the identity matrix.\n",
    "* use the trained classifier to make predictions on this matrix\n",
    "* sort the rows by predicted probabilities, and pick the top and bottom $K$ rows"
   ]
  },
  {
   "cell_type": "code",
   "execution_count": 27,
   "metadata": {
    "collapsed": false
   },
   "outputs": [
    {
     "name": "stdout",
     "output_type": "stream",
     "text": [
      "Good words\t     P(fresh | word)\n",
      "           hitchcock 0.87\n",
      "         performance 0.86\n",
      "              cinema 0.86\n",
      "         intelligent 0.84\n",
      "        entertaining 0.84\n",
      "             perfect 0.84\n",
      "         masterpiece 0.84\n",
      "                most 0.83\n",
      "               light 0.83\n",
      "             kubrick 0.83\n",
      "Bad words\t     P(fresh | word)\n",
      "               video 0.28\n",
      "         uninvolving 0.28\n",
      "             tedious 0.28\n",
      "              stupid 0.28\n",
      "             problem 0.27\n",
      "           formulaic 0.26\n",
      "           pointless 0.25\n",
      "               fails 0.24\n",
      "       unfortunately 0.22\n",
      "               bland 0.22\n"
     ]
    }
   ],
   "source": [
    "words = np.array(vectorizer.get_feature_names())\n",
    "\n",
    "x = np.eye(xtest.shape[1])\n",
    "probs = clf.predict_log_proba(x)[:, 0]\n",
    "ind = np.argsort(probs)\n",
    "\n",
    "good_words = words[ind[:10]]\n",
    "bad_words = words[ind[-10:]]\n",
    "\n",
    "good_prob = probs[ind[:10]]\n",
    "bad_prob = probs[ind[-10:]]\n",
    "\n",
    "print(\"Good words\\t     P(fresh | word)\")\n",
    "for w, p in zip(good_words, good_prob):\n",
    "    print(\"{:>20}\".format(w), \"{:.2f}\".format(1 - np.exp(p)))\n",
    "    \n",
    "print(\"Bad words\\t     P(fresh | word)\")\n",
    "for w, p in zip(bad_words, bad_prob):\n",
    "    print(\"{:>20}\".format(w), \"{:.2f}\".format(1 - np.exp(p)))"
   ]
  },
  {
   "cell_type": "markdown",
   "metadata": {},
   "source": [
    "<div class=\"span5 alert alert-info\">\n",
    "<h3>Exercise Set VI</h3>\n",
    "\n",
    "<p><b>Exercise:</b> Why does this method work? What does the probability for each row in the identity matrix represent</p>\n",
    "\n",
    "</div>"
   ]
  },
  {
   "cell_type": "markdown",
   "metadata": {},
   "source": [
    "The above exercise is an example of *feature selection*. There are many other feature selection methods. A list of feature selection methods available in `sklearn` is [here](http://scikit-learn.org/stable/modules/classes.html#module-sklearn.feature_selection). The most common feature selection technique for text mining is the chi-squared $\\left( \\chi^2 \\right)$ [method](http://nlp.stanford.edu/IR-book/html/htmledition/feature-selectionchi2-feature-selection-1.html)."
   ]
  },
  {
   "cell_type": "markdown",
   "metadata": {},
   "source": [
    "### Prediction Errors\n",
    "\n",
    "We can see mis-predictions as well."
   ]
  },
  {
   "cell_type": "code",
   "execution_count": 28,
   "metadata": {
    "collapsed": false
   },
   "outputs": [
    {
     "name": "stdout",
     "output_type": "stream",
     "text": [
      "Mis-predicted Rotten quotes\n",
      "---------------------------\n",
      "With its feints at horror and pathos, the third Star Wars film is the most Disney-esque in its emotional outline, yet that outline is buried beneath an obnoxiously hyped-up pace that reduces the emotions to rubble.\n",
      "\n",
      "It survives today only as an unusually pure example of a typical 50s art-film strategy: the attempt to make the most modern and most popular of art forms acceptable to the intelligentsia by forcing it into an arcane, antique mold.\n",
      "\n",
      "Benefits from a lively lead performance by the miscast Denzel Washington but doesn't come within light years of the book, one of the greatest American autobiographies.\n",
      "\n",
      "The picture has its moments of chilling insight, though essentially it is one more quaint early-70s stab at an American art cinema that never materialized.\n",
      "\n",
      "Lauded as a witty moral fable with a revelatory performance from its star, this romantic comedy is in fact meretricious, manipulative and reactionary.\n",
      "\n",
      "Mis-predicted Fresh quotes\n",
      "--------------------------\n",
      "Four guys hang out, kid one another, get into scuffles and flash their gonadal searchlight for available women. Yikes, haven't there been enough variations on the multiple-buddy movie? Actually, no.\n",
      "\n",
      "There's too much talent and too strong a story to mess it up. There was potential for more here, but this incarnation is nothing to be ashamed of, and some of the actors answer the bell.\n",
      "\n",
      "The gangland plot is flimsy (bad guy Peter Greene wears too much eyeliner), and the jokes are erratic, but it's a far better showcase for Carrey's comic-from-Uranus talent than Ace Ventura.\n",
      "\n",
      "This tough-to-peg whodunit keeps you going for two hours, despite a few James Bond-ish (or Jane Bond-ish) turns that play less preposterously than you might assume were they to be divulged.\n",
      "\n",
      "Though it's a good half hour too long, this overblown 1993 spin-off of the 60s TV show otherwise adds up to a pretty good suspense thriller.\n",
      "\n"
     ]
    }
   ],
   "source": [
    "x, y = make_xy(critics, vectorizer)\n",
    "\n",
    "prob = clf.predict_proba(x)[:, 0]\n",
    "predict = clf.predict(x)\n",
    "\n",
    "bad_rotten = np.argsort(prob[y == 0])[:5]\n",
    "bad_fresh = np.argsort(prob[y == 1])[-5:]\n",
    "\n",
    "print(\"Mis-predicted Rotten quotes\")\n",
    "print('---------------------------')\n",
    "for row in bad_rotten:\n",
    "    print(critics[y == 0].quote.iloc[row])\n",
    "    print(\"\")\n",
    "\n",
    "print(\"Mis-predicted Fresh quotes\")\n",
    "print('--------------------------')\n",
    "for row in bad_fresh:\n",
    "    print(critics[y == 1].quote.iloc[row])\n",
    "    print(\"\")"
   ]
  },
  {
   "cell_type": "markdown",
   "metadata": {},
   "source": [
    "<div class=\"span5 alert alert-info\">\n",
    "<h3>Exercise Set VII: Predicting the Freshness for a New Review</h3>\n",
    "<br/>\n",
    "<div>\n",
    "<b>Exercise:</b>\n",
    "<ul>\n",
    "<li> Using your best trained classifier, predict the freshness of the following sentence: *'This movie is not remarkable, touching, or superb in any way'*\n",
    "<li> Is the result what you'd expect? Why (not)?\n",
    "</ul>\n",
    "</div>\n",
    "</div>"
   ]
  },
  {
   "cell_type": "code",
   "execution_count": 29,
   "metadata": {
    "collapsed": false
   },
   "outputs": [
    {
     "name": "stdout",
     "output_type": "stream",
     "text": [
      "the probabilities are  [[ 0.08883539  0.91116461]]\n",
      "the predicted fresh value is  [1]\n"
     ]
    }
   ],
   "source": [
    "#your turn\n",
    "doc_test=['This movie is not remarkable, touching, or superb in any way']\n",
    "X_new=vectorizer.transform(doc_test)\n",
    "new_fresh_pred = clf.predict(X_new)\n",
    "new_probs=clf.predict_proba(X_new)\n",
    "\n",
    "print ('the probabilities are ', new_probs)\n",
    "print ('the predicted fresh value is ', new_fresh_pred)"
   ]
  },
  {
   "cell_type": "markdown",
   "metadata": {},
   "source": [
    "### Aside: TF-IDF Weighting for Term Importance\n",
    "\n",
    "TF-IDF stands for \n",
    "\n",
    "`Term-Frequency X Inverse Document Frequency`.\n",
    "\n",
    "In the standard `CountVectorizer` model above, we used just the term frequency in a document of words in our vocabulary. In TF-IDF, we weight this term frequency by the inverse of its popularity in all documents. For example, if the word \"movie\" showed up in all the documents, it would not have much predictive value. It could actually be considered a stopword. By weighing its counts by 1 divided by its overall frequency, we downweight it. We can then use this TF-IDF weighted features as inputs to any classifier. **TF-IDF is essentially a measure of term importance, and of how discriminative a word is in a corpus.** There are a variety of nuances involved in computing TF-IDF, mainly involving where to add the smoothing term to avoid division by 0, or log of 0 errors. The formula for TF-IDF in `scikit-learn` differs from that of most textbooks: \n",
    "\n",
    "$$\\mbox{TF-IDF}(t, d) = \\mbox{TF}(t, d)\\times \\mbox{IDF}(t) = n_{td} \\log{\\left( \\frac{\\vert D \\vert}{\\vert d : t \\in d \\vert} + 1 \\right)}$$\n",
    "\n",
    "where $n_{td}$ is the number of times term $t$ occurs in document $d$, $\\vert D \\vert$ is the number of documents, and $\\vert d : t \\in d \\vert$ is the number of documents that contain $t$"
   ]
  },
  {
   "cell_type": "code",
   "execution_count": 30,
   "metadata": {
    "collapsed": true
   },
   "outputs": [],
   "source": [
    "# http://scikit-learn.org/dev/modules/feature_extraction.html#text-feature-extraction\n",
    "# http://scikit-learn.org/dev/modules/classes.html#text-feature-extraction-ref\n",
    "from sklearn.feature_extraction.text import TfidfVectorizer\n",
    "tfidfvectorizer = TfidfVectorizer(min_df=1, stop_words='english')\n",
    "Xtfidf=tfidfvectorizer.fit_transform(critics.quote)"
   ]
  },
  {
   "cell_type": "markdown",
   "metadata": {},
   "source": [
    "<div class=\"span5 alert alert-info\">\n",
    "<h3>Exercise Set VIII: Enrichment</h3>\n",
    "\n",
    "<p>\n",
    "There are several additional things we could try. Try some of these as exercises:\n",
    "<ol>\n",
    "<li> Build a Naive Bayes model where the features are n-grams instead of words. N-grams are phrases containing n words next to each other: a bigram contains 2 words, a trigram contains 3 words, and 6-gram contains 6 words. This is useful because \"not good\" and \"so good\" mean very different things. On the other hand, as n increases, the model does not scale well since the feature set becomes more sparse.\n",
    "<li> Try a model besides Naive Bayes, one that would allow for interactions between words -- for example, a Random Forest classifier.\n",
    "<li> Try adding supplemental features -- information about genre, director, cast, etc.\n",
    "<li> Use word2vec or [Latent Dirichlet Allocation](https://en.wikipedia.org/wiki/Latent_Dirichlet_allocation) to group words into topics and use those topics for prediction.\n",
    "<li> Use TF-IDF weighting instead of word counts.\n",
    "</ol>\n",
    "</p>\n",
    "\n",
    "<b>Exercise:</b> Try a few of these ideas to improve the model (or any other ideas of your own). Implement here and report on the result.\n",
    "</div>"
   ]
  },
  {
   "cell_type": "markdown",
   "metadata": {
    "collapsed": true
   },
   "source": [
    "# N-grams"
   ]
  },
  {
   "cell_type": "code",
   "execution_count": 31,
   "metadata": {
    "collapsed": false
   },
   "outputs": [
    {
     "name": "stdout",
     "output_type": "stream",
     "text": [
      "n = 2\n",
      "The accuracy score for the training set is 0.996145\n",
      "The accuracy score for the test set is 0.673155\n",
      "n = 3\n",
      "The accuracy score for the training set is 0.993146\n",
      "The accuracy score for the test set is 0.538928\n",
      "n = 4\n",
      "The accuracy score for the training set is 0.985650\n",
      "The accuracy score for the test set is 0.473559\n",
      "n = 5\n",
      "The accuracy score for the training set is 0.977297\n",
      "The accuracy score for the test set is 0.451249\n"
     ]
    }
   ],
   "source": [
    "for n in range(2, 6):\n",
    "    vec = CountVectorizer(ngram_range=(n, n))\n",
    "    X, y = make_xy(critics, vectorizer=vec)\n",
    "    Xtrain, Xtest, ytrain, ytest = X[mask], X[~mask], y[mask], y[~mask]\n",
    "    clf = MultinomialNB().fit(Xtrain, ytrain)\n",
    "    training_accuracy = clf.score(Xtrain, ytrain)\n",
    "    test_accuracy = clf.score(Xtest, ytest)\n",
    "  \n",
    "    print (\"n = %d\" %n)\n",
    "    print (\"The accuracy score for the training set is {:2f}\" .format(training_accuracy))\n",
    "    print (\"The accuracy score for the test set is {:2f}\" .format(test_accuracy))"
   ]
  },
  {
   "cell_type": "code",
   "execution_count": 32,
   "metadata": {
    "collapsed": true
   },
   "outputs": [],
   "source": [
    "# Exercise 5: use TF-IDF weighting\n",
    "X5, y5 = make_xy(critics, vectorizer=tfidfvectorizer)"
   ]
  },
  {
   "cell_type": "code",
   "execution_count": 33,
   "metadata": {
    "collapsed": true
   },
   "outputs": [],
   "source": [
    "X5_train, X5_test, y5_train, y5_test = X5[mask], X5[~mask], y5[mask], y5[~mask]"
   ]
  },
  {
   "cell_type": "code",
   "execution_count": 34,
   "metadata": {
    "collapsed": false
   },
   "outputs": [
    {
     "data": {
      "text/plain": [
       "MultinomialNB(alpha=1.0, class_prior=None, fit_prior=True)"
      ]
     },
     "execution_count": 34,
     "metadata": {},
     "output_type": "execute_result"
    }
   ],
   "source": [
    "NBmodel_tfidf = MultinomialNB()\n",
    "NBmodel_tfidf.fit(X5_train, y5_train)"
   ]
  },
  {
   "cell_type": "code",
   "execution_count": 35,
   "metadata": {
    "collapsed": false
   },
   "outputs": [
    {
     "name": "stdout",
     "output_type": "stream",
     "text": [
      "The accuracy score for the test set is 0.673889\n",
      "The accuracy score for the training set is 0.850503\n"
     ]
    }
   ],
   "source": [
    "\n",
    "print (\"The accuracy score for the test set is %f\" % NBmodel_tfidf.score(X5_test, y5_test))\n",
    "print (\"The accuracy score for the training set is %f\" % NBmodel_tfidf.score(X5_train, y5_train))"
   ]
  },
  {
   "cell_type": "code",
   "execution_count": null,
   "metadata": {
    "collapsed": true
   },
   "outputs": [],
   "source": []
  },
  {
   "cell_type": "markdown",
   "metadata": {},
   "source": [
    "# Random Forest"
   ]
  },
  {
   "cell_type": "code",
   "execution_count": 46,
   "metadata": {
    "collapsed": false
   },
   "outputs": [
    {
     "data": {
      "text/plain": [
       "<15561x203 sparse matrix of type '<class 'numpy.int64'>'\n",
       "\twith 134217 stored elements in Compressed Sparse Column format>"
      ]
     },
     "execution_count": 46,
     "metadata": {},
     "output_type": "execute_result"
    }
   ],
   "source": [
    "X"
   ]
  },
  {
   "cell_type": "code",
   "execution_count": 47,
   "metadata": {
    "collapsed": false
   },
   "outputs": [
    {
     "data": {
      "text/plain": [
       "array([1, 1, 1, ..., 1, 1, 1])"
      ]
     },
     "execution_count": 47,
     "metadata": {},
     "output_type": "execute_result"
    }
   ],
   "source": [
    "y"
   ]
  },
  {
   "cell_type": "code",
   "execution_count": 48,
   "metadata": {
    "collapsed": false
   },
   "outputs": [
    {
     "data": {
      "text/plain": [
       "['about',\n",
       " 'acting',\n",
       " 'action',\n",
       " 'actors',\n",
       " 'after',\n",
       " 'all',\n",
       " 'almost',\n",
       " 'also',\n",
       " 'american',\n",
       " 'an',\n",
       " 'and',\n",
       " 'another',\n",
       " 'any',\n",
       " 'are',\n",
       " 'as',\n",
       " 'at',\n",
       " 'audience',\n",
       " 'bad',\n",
       " 'be',\n",
       " 'because',\n",
       " 'been',\n",
       " 'being',\n",
       " 'best',\n",
       " 'better',\n",
       " 'between',\n",
       " 'big',\n",
       " 'both',\n",
       " 'but',\n",
       " 'by',\n",
       " 'can',\n",
       " 'cast',\n",
       " 'character',\n",
       " 'characters',\n",
       " 'comedy',\n",
       " 'comes',\n",
       " 'comic',\n",
       " 'could',\n",
       " 'director',\n",
       " 'disney',\n",
       " 'do',\n",
       " 'does',\n",
       " 'doesn',\n",
       " 'don',\n",
       " 'down',\n",
       " 'drama',\n",
       " 'effects',\n",
       " 'end',\n",
       " 'enough',\n",
       " 'entertaining',\n",
       " 'entertainment',\n",
       " 'even',\n",
       " 'ever',\n",
       " 'every',\n",
       " 'far',\n",
       " 'feel',\n",
       " 'few',\n",
       " 'film',\n",
       " 'films',\n",
       " 'first',\n",
       " 'for',\n",
       " 'from',\n",
       " 'full',\n",
       " 'fun',\n",
       " 'funny',\n",
       " 'get',\n",
       " 'go',\n",
       " 'good',\n",
       " 'great',\n",
       " 'had',\n",
       " 'hard',\n",
       " 'has',\n",
       " 'have',\n",
       " 'he',\n",
       " 'her',\n",
       " 'here',\n",
       " 'high',\n",
       " 'his',\n",
       " 'hollywood',\n",
       " 'horror',\n",
       " 'how',\n",
       " 'humor',\n",
       " 'if',\n",
       " 'in',\n",
       " 'into',\n",
       " 'is',\n",
       " 'isn',\n",
       " 'it',\n",
       " 'its',\n",
       " 'just',\n",
       " 'kind',\n",
       " 'less',\n",
       " 'life',\n",
       " 'like',\n",
       " 'little',\n",
       " 'long',\n",
       " 'look',\n",
       " 'lot',\n",
       " 'love',\n",
       " 'made',\n",
       " 'make',\n",
       " 'makes',\n",
       " 'man',\n",
       " 'many',\n",
       " 'may',\n",
       " 'might',\n",
       " 'moments',\n",
       " 'more',\n",
       " 'most',\n",
       " 'movie',\n",
       " 'movies',\n",
       " 'mr',\n",
       " 'much',\n",
       " 'never',\n",
       " 'new',\n",
       " 'no',\n",
       " 'not',\n",
       " 'nothing',\n",
       " 'of',\n",
       " 'off',\n",
       " 'often',\n",
       " 'old',\n",
       " 'on',\n",
       " 'one',\n",
       " 'only',\n",
       " 'or',\n",
       " 'original',\n",
       " 'other',\n",
       " 'our',\n",
       " 'out',\n",
       " 'over',\n",
       " 'own',\n",
       " 'people',\n",
       " 'performance',\n",
       " 'performances',\n",
       " 'picture',\n",
       " 'plot',\n",
       " 'quite',\n",
       " 're',\n",
       " 'real',\n",
       " 'really',\n",
       " 'right',\n",
       " 'romantic',\n",
       " 'screen',\n",
       " 'script',\n",
       " 'see',\n",
       " 'seem',\n",
       " 'seems',\n",
       " 'sense',\n",
       " 'should',\n",
       " 'so',\n",
       " 'some',\n",
       " 'something',\n",
       " 'star',\n",
       " 'still',\n",
       " 'story',\n",
       " 'style',\n",
       " 'such',\n",
       " 'take',\n",
       " 'takes',\n",
       " 'than',\n",
       " 'that',\n",
       " 'the',\n",
       " 'their',\n",
       " 'them',\n",
       " 'there',\n",
       " 'these',\n",
       " 'they',\n",
       " 'thing',\n",
       " 'this',\n",
       " 'those',\n",
       " 'though',\n",
       " 'thriller',\n",
       " 'through',\n",
       " 'time',\n",
       " 'to',\n",
       " 'too',\n",
       " 'two',\n",
       " 'up',\n",
       " 'us',\n",
       " 've',\n",
       " 'very',\n",
       " 'was',\n",
       " 'way',\n",
       " 'we',\n",
       " 'well',\n",
       " 'were',\n",
       " 'what',\n",
       " 'when',\n",
       " 'where',\n",
       " 'which',\n",
       " 'while',\n",
       " 'who',\n",
       " 'will',\n",
       " 'with',\n",
       " 'without',\n",
       " 'work',\n",
       " 'world',\n",
       " 'would',\n",
       " 'year',\n",
       " 'years',\n",
       " 'yet',\n",
       " 'you',\n",
       " 'your']"
      ]
     },
     "execution_count": 48,
     "metadata": {},
     "output_type": "execute_result"
    }
   ],
   "source": [
    "n"
   ]
  },
  {
   "cell_type": "code",
   "execution_count": 76,
   "metadata": {
    "collapsed": true
   },
   "outputs": [],
   "source": [
    "def log_likelihood(clf, x, y):\n",
    "    proba = clf.predict_proba(x)\n",
    "    proba[proba==0]=10**-10 #some predictions from random forest were 0. This causes problems with np.log. Here it's fixed\n",
    "    prob=np.log(proba)\n",
    "    rotten = y == 0\n",
    "    fresh = ~rotten\n",
    "    return prob[rotten, 0].sum() + prob[fresh, 1].sum()"
   ]
  },
  {
   "cell_type": "code",
   "execution_count": 78,
   "metadata": {
    "collapsed": false
   },
   "outputs": [],
   "source": [
    "from sklearn.cross_validation import train_test_split\n",
    "itrain, itest = train_test_split(range(critics.shape[0]), train_size=0.7)\n",
    "mask=np.ones(critics.shape[0], dtype='int')\n",
    "mask[itrain]=1\n",
    "mask[itest]=0\n",
    "mask = (mask==1)"
   ]
  },
  {
   "cell_type": "code",
   "execution_count": 79,
   "metadata": {
    "collapsed": true
   },
   "outputs": [],
   "source": [
    "def make_xyn(data=critics, doc_var='quote',target='fresh',pos_val='fresh',vectorizer=None):\n",
    "    #Your code here    \n",
    "    if vectorizer is None:\n",
    "        vectorizer = CountVectorizer(stop_words='english')\n",
    "    X = vectorizer.fit_transform(data[doc_var])\n",
    "    X = X.tocsc()  # some versions of sklearn return COO format\n",
    "    y = (data[target] == pos_val).values.astype(np.int)\n",
    "    n = vectorizer.get_feature_names()\n",
    "    return X, y, n"
   ]
  },
  {
   "cell_type": "code",
   "execution_count": 80,
   "metadata": {
    "collapsed": true
   },
   "outputs": [],
   "source": [
    "from sklearn import ensemble as en"
   ]
  },
  {
   "cell_type": "code",
   "execution_count": 81,
   "metadata": {
    "collapsed": true
   },
   "outputs": [],
   "source": [
    "features_factor = [0.25,0.5,1.0,2.0,5.0]\n",
    "min_dfs = [1e-5, 1e-4, 1e-3, 1e-2]"
   ]
  },
  {
   "cell_type": "code",
   "execution_count": 82,
   "metadata": {
    "collapsed": false
   },
   "outputs": [],
   "source": [
    "from sklearn.cross_validation import KFold\n",
    "def cv_score(clf, X, yvec, scorefunc):\n",
    "    result = 0.\n",
    "    nfold = 5\n",
    "    for train, test in KFold(yvec.size, nfold): # split data into train/test groups, 5 times\n",
    "        clf.fit(X[train], yvec[train]) # fit\n",
    "        result += scorefunc(clf, X[test], yvec[test])# evaluate score function on held-out data\n",
    "        #print 'Xsize',x[test].shape,'y lenght',len(yvec[test])\n",
    "    return result / nfold # average"
   ]
  },
  {
   "cell_type": "code",
   "execution_count": 83,
   "metadata": {
    "collapsed": false,
    "scrolled": false
   },
   "outputs": [],
   "source": [
    "best_num_features = None\n",
    "best_min_df = None\n",
    "best_classifier=None\n",
    "maxscore=-np.inf\n",
    "for factor in features_factor:\n",
    "    for min_df in min_dfs:         \n",
    "        vectorizer = CountVectorizer(min_df = min_df)       \n",
    "        X,y,n = make_xyn(critics, vectorizer=vectorizer)\n",
    "        num_features= (np.sqrt(len(n))*factor).astype(int)\n",
    "        #print 'the length of n is',len(n), 'num_features is', num_features, 'and factor is',factor\n",
    "        Xtrain=X[mask]\n",
    "        ytrain=y[mask]\n",
    "        #\n",
    "        Xtest=X[~mask]\n",
    "        ytest=y[~mask]\n",
    "        classifier = en.RandomForestClassifier(max_features=num_features)\n",
    "        classifier.fit(Xtrain,ytrain)\n",
    "        score=cv_score(classifier, Xtest, ytest, log_likelihood)    \n",
    "        if score > maxscore:\n",
    "            maxscore = score\n",
    "            best_num_features = num_features\n",
    "            best_min_df = min_df\n",
    "            best_classifier = classifier"
   ]
  },
  {
   "cell_type": "code",
   "execution_count": 75,
   "metadata": {
    "collapsed": false
   },
   "outputs": [],
   "source": [
    "best_min_df"
   ]
  },
  {
   "cell_type": "code",
   "execution_count": 84,
   "metadata": {
    "collapsed": false
   },
   "outputs": [],
   "source": [
    "vectorizer = CountVectorizer(min_df=best_min_df)"
   ]
  },
  {
   "cell_type": "code",
   "execution_count": 86,
   "metadata": {
    "collapsed": false
   },
   "outputs": [
    {
     "name": "stdout",
     "output_type": "stream",
     "text": [
      "Test accuracy =  0.667166416792\n",
      "Test precision = 0.737170087977\n",
      "Test recall =  0.706109550562\n",
      "Test f1 =  0.721305595409\n",
      "Test AUC-ROC =  0.656184923551\n"
     ]
    }
   ],
   "source": [
    "X, y = make_xy(critics, vectorizer)\n",
    "xtrain=X[mask]\n",
    "ytrain=y[mask]\n",
    "xtest=X[~mask]\n",
    "ytest=y[~mask]\n",
    "\n",
    "best_classifier.fit(xtrain,ytrain)\n",
    "predicted_fresh = best_classifier.predict(xtest)\n",
    "#score=cv_score(classifier, xtest, ytest, log_likelihood)\n",
    "accuracy=best_classifier.score(xtest,ytest)\n",
    "precision,recall,f1,_= metrics.precision_recall_fscore_support(ytest,predicted_fresh,average='binary')\n",
    "auc = metrics.roc_auc_score(ytest,predicted_fresh)\n",
    "print ('Test accuracy = ', accuracy)\n",
    "print ('Test precision =', precision)\n",
    "print ('Test recall = ', recall)\n",
    "print ('Test f1 = ', f1)\n",
    "print ('Test AUC-ROC = ',auc)"
   ]
  },
  {
   "cell_type": "markdown",
   "metadata": {
    "collapsed": true
   },
   "source": [
    "The accuracy score with Multinomial Naive Bayes was 0.72 whereas the randomforest score is 0.66 with a AUC of 0.65.  Random forest is not robust enough to be a good model.\n"
   ]
  }
 ],
 "metadata": {
  "kernelspec": {
   "display_name": "Python 3",
   "language": "python",
   "name": "python3"
  },
  "language_info": {
   "codemirror_mode": {
    "name": "ipython",
    "version": 3
   },
   "file_extension": ".py",
   "mimetype": "text/x-python",
   "name": "python",
   "nbconvert_exporter": "python",
   "pygments_lexer": "ipython3",
   "version": "3.6.0"
  }
 },
 "nbformat": 4,
 "nbformat_minor": 0
}
